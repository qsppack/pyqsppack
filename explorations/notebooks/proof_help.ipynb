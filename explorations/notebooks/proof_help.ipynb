{
 "cells": [
  {
   "cell_type": "code",
   "execution_count": 12,
   "metadata": {},
   "outputs": [],
   "source": [
    "import numpy as np\n",
    "from scipy import sparse as sp\n",
    "from matplotlib import pyplot as plt"
   ]
  },
  {
   "cell_type": "code",
   "execution_count": 43,
   "metadata": {},
   "outputs": [
    {
     "name": "stderr",
     "output_type": "stream",
     "text": [
      "/Users/jameslarsen/miniconda3/envs/qspy/lib/python3.13/site-packages/scipy/sparse/linalg/_dsolve/linsolve.py:597: SparseEfficiencyWarning: splu converted its input to CSC format\n",
      "  return splu(A).solve\n",
      "/Users/jameslarsen/miniconda3/envs/qspy/lib/python3.13/site-packages/scipy/sparse/linalg/_matfuncs.py:76: SparseEfficiencyWarning: spsolve is more efficient when sparse b is in the CSC matrix format\n",
      "  Ainv = spsolve(A, I)\n",
      "/Users/jameslarsen/miniconda3/envs/qspy/lib/python3.13/site-packages/scipy/sparse/linalg/_eigen/_svds.py:477: UserWarning: The problem size 4 minus the constraints size 0 is too small relative to the block size 1. Using a dense eigensolver instead of LOBPCG iterations.No output of the history of the iterations.\n",
      "  _, eigvec = lobpcg(XH_X, X, tol=tol ** 2, maxiter=maxiter,\n",
      "/Users/jameslarsen/miniconda3/envs/qspy/lib/python3.13/site-packages/scipy/sparse/linalg/_eigen/_svds.py:477: UserWarning: Exited at iteration 20 with accuracies \n",
      "[0.00019108]\n",
      "not reaching the requested tolerance 3.814697265625e-06.\n",
      "Use iteration 21 instead with accuracy \n",
      "0.00019107699642374935.\n",
      "\n",
      "  _, eigvec = lobpcg(XH_X, X, tol=tol ** 2, maxiter=maxiter,\n",
      "/Users/jameslarsen/miniconda3/envs/qspy/lib/python3.13/site-packages/scipy/sparse/linalg/_eigen/_svds.py:477: UserWarning: Exited postprocessing with accuracies \n",
      "[0.00019108]\n",
      "not reaching the requested tolerance 3.814697265625e-06.\n",
      "  _, eigvec = lobpcg(XH_X, X, tol=tol ** 2, maxiter=maxiter,\n",
      "/Users/jameslarsen/miniconda3/envs/qspy/lib/python3.13/site-packages/scipy/sparse/linalg/_eigen/_svds.py:477: UserWarning: Exited at iteration 20 with accuracies \n",
      "[0.0007385]\n",
      "not reaching the requested tolerance 1.52587890625e-05.\n",
      "Use iteration 21 instead with accuracy \n",
      "0.0007384981895932698.\n",
      "\n",
      "  _, eigvec = lobpcg(XH_X, X, tol=tol ** 2, maxiter=maxiter,\n",
      "/Users/jameslarsen/miniconda3/envs/qspy/lib/python3.13/site-packages/scipy/sparse/linalg/_eigen/_svds.py:477: UserWarning: Exited postprocessing with accuracies \n",
      "[0.0007385]\n",
      "not reaching the requested tolerance 1.52587890625e-05.\n",
      "  _, eigvec = lobpcg(XH_X, X, tol=tol ** 2, maxiter=maxiter,\n",
      "/Users/jameslarsen/miniconda3/envs/qspy/lib/python3.13/site-packages/scipy/sparse/linalg/_eigen/_svds.py:477: UserWarning: Exited at iteration 20 with accuracies \n",
      "[3.29368215]\n",
      "not reaching the requested tolerance 6.103515625e-05.\n",
      "Use iteration 21 instead with accuracy \n",
      "3.293682154526878.\n",
      "\n",
      "  _, eigvec = lobpcg(XH_X, X, tol=tol ** 2, maxiter=maxiter,\n",
      "/Users/jameslarsen/miniconda3/envs/qspy/lib/python3.13/site-packages/scipy/sparse/linalg/_eigen/_svds.py:477: UserWarning: Exited postprocessing with accuracies \n",
      "[3.29368215]\n",
      "not reaching the requested tolerance 6.103515625e-05.\n",
      "  _, eigvec = lobpcg(XH_X, X, tol=tol ** 2, maxiter=maxiter,\n",
      "/Users/jameslarsen/miniconda3/envs/qspy/lib/python3.13/site-packages/scipy/sparse/linalg/_eigen/_svds.py:477: UserWarning: Exited at iteration 20 with accuracies \n",
      "[14.46850849]\n",
      "not reaching the requested tolerance 0.000244140625.\n",
      "Use iteration 21 instead with accuracy \n",
      "14.468508488495004.\n",
      "\n",
      "  _, eigvec = lobpcg(XH_X, X, tol=tol ** 2, maxiter=maxiter,\n",
      "/Users/jameslarsen/miniconda3/envs/qspy/lib/python3.13/site-packages/scipy/sparse/linalg/_eigen/_svds.py:477: UserWarning: Exited postprocessing with accuracies \n",
      "[14.46850849]\n",
      "not reaching the requested tolerance 0.000244140625.\n",
      "  _, eigvec = lobpcg(XH_X, X, tol=tol ** 2, maxiter=maxiter,\n"
     ]
    }
   ],
   "source": [
    "ns = 2**np.arange(1,8)\n",
    "norms = np.zeros(len(ns))\n",
    "for i,n in enumerate(ns):\n",
    "    K = sp.diags(np.ones(n-1),-1)\n",
    "    A = sp.eye(n**2) - sp.kron(K,K)\n",
    "    norms[i] = sp.linalg.norm(sp.linalg.inv(A), ord=2)"
   ]
  },
  {
   "cell_type": "code",
   "execution_count": 44,
   "metadata": {},
   "outputs": [
    {
     "name": "stdout",
     "output_type": "stream",
     "text": [
      "Slope of the data in log-log space: 0.9493063232618032\n"
     ]
    },
    {
     "data": {
      "image/png": "[encoded data removed]",
      "text/plain": [
       "<Figure size 640x480 with 1 Axes>"
      ]
     },
     "metadata": {},
     "output_type": "display_data"
    }
   ],
   "source": [
    "plt.scatter(ns,norms, marker=\"x\", color=\"red\")\n",
    "# Calculate the logarithm of ns and norms\n",
    "log_ns = np.log(ns)\n",
    "log_norms = np.log(norms)\n",
    "\n",
    "# Perform a linear fit on the log-log data\n",
    "slope, intercept = np.polyfit(log_ns, log_norms, 1)\n",
    "\n",
    "# Print the slope\n",
    "print(f\"Slope of the data in log-log space: {slope}\")\n",
    "\n",
    "# Plot the line of best fit\n",
    "best_fit_line = np.exp(intercept) * ns**slope\n",
    "plt.plot(ns, best_fit_line, label=f'Best fit line (slope={slope:.2f})', color='blue')\n",
    "\n",
    "# Add legend\n",
    "plt.legend()\n",
    "\n",
    "plt.xscale(\"log\")\n",
    "plt.yscale(\"log\")\n",
    "plt.axis(\"equal\")\n",
    "plt.grid()\n",
    "plt.show()"
   ]
  }
 ],
 "metadata": {
  "kernelspec": {
   "display_name": "qspy",
   "language": "python",
   "name": "python3"
  },
  "language_info": {
   "codemirror_mode": {
    "name": "ipython",
    "version": 3
   },
   "file_extension": ".py",
   "mimetype": "text/x-python",
   "name": "python",
   "nbconvert_exporter": "python",
   "pygments_lexer": "ipython3",
   "version": "3.13.2"
  }
 },
 "nbformat": 4,
 "nbformat_minor": 2
}
